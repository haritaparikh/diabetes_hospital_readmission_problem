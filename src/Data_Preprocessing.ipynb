{
 "cells": [
  {
   "cell_type": "markdown",
   "metadata": {
    "colab_type": "text",
    "id": "view-in-github"
   },
   "source": [
    "<a href=\"https://colab.research.google.com/github/pratzz/Diabetes-Readmission-Prediction/blob/main/Data_Preprocessing.ipynb\" target=\"_parent\"><img src=\"https://colab.research.google.com/assets/colab-badge.svg\" alt=\"Open In Colab\"/></a>"
   ]
  },
  {
   "cell_type": "code",
   "execution_count": 1,
   "metadata": {
    "id": "cDVaJEV3kjUq"
   },
   "outputs": [],
   "source": [
    "import pandas as pd\n",
    "import matplotlib.pyplot as plt\n",
    "from sklearn.model_selection import train_test_split"
   ]
  },
  {
   "cell_type": "code",
   "execution_count": 2,
   "metadata": {
    "id": "XKP9zgEGkjU4"
   },
   "outputs": [],
   "source": [
    "data = pd.read_csv(\"../data/raw_data/diabetic_data.csv\")\n",
    "# data.head(10)"
   ]
  },
  {
   "cell_type": "markdown",
   "metadata": {},
   "source": [
    "##### frequency_table: \n",
    "<br>check the frequence of classes in each category.\n",
    "<br>May decide to drop/club the ones with low frequencies\n",
    "<br>Or drop the category, if all the classes contribute relatovely uniform"
   ]
  },
  {
   "cell_type": "code",
   "execution_count": 3,
   "metadata": {
    "id": "YgFls9ckkjU8"
   },
   "outputs": [],
   "source": [
    "def frequency_table(data, columns): \n",
    "    for column in columns:\n",
    "        print(\"*\"*50)\n",
    "        print(pd.crosstab(index=data[column],  \n",
    "                           columns=\"count\").sort_values(by = \"count\", \n",
    "                                                        ascending = False))\n",
    "        print(\"*\"*50)\n",
    "        \n",
    "# columns = data.columns\n",
    "# frequency_table(data, columns)\n",
    "# frequency_table(data, ['readmitted'])"
   ]
  },
  {
   "cell_type": "markdown",
   "metadata": {
    "id": "Hd2np0-ekjU9"
   },
   "source": [
    "##### Feature Engineer \n",
    "race, gender, admission_type_id, discharge_disposition_id, admission_source_id, num_lab_procedures, \n",
    "num_medications, metformin, repaglinide, nateglinide, glimepiride, glipizide, glyburide, pioglitazone, \n",
    "rosiglitazone, acarbose,tolazamide,insulin,glyburide-metformin,glipizide-metformin,change, diabetesMed, readmitted\n",
    "    \n",
    "##### Dropping columns\n",
    "<br> identifiers: encounter_id, patient_nbr\n",
    "<br> High missing values: weight(97%), payer_code(40%), medical_specialty(50%)\n",
    "<br> not administered to significant number of patients: acetohexamide, tolbutamide,examide, troglitazone, citoglipton, glimepiride-pioglitazone, glipizide-metformin, metformin- rosiglitazone, glyburide-metformin (not administered to significant number of patients)"
   ]
  },
  {
   "cell_type": "code",
   "execution_count": 4,
   "metadata": {
    "id": "QG8v9_52kjU_"
   },
   "outputs": [],
   "source": [
    "drop_cols= [\"encounter_id\", \"patient_nbr\", \"weight\", \n",
    "            \"payer_code\", \"medical_specialty\", \n",
    "            \"acetohexamide\", \"tolbutamide\", \"examide\", \n",
    "            \"troglitazone\", \"citoglipton\", \n",
    "            \"glimepiride-pioglitazone\", \"glipizide-metformin\", \n",
    "            \"metformin-rosiglitazone\", \"glyburide-metformin\"]\n",
    "data = data.drop(drop_cols, axis=1)"
   ]
  },
  {
   "cell_type": "markdown",
   "metadata": {},
   "source": [
    "##### correlation_num_cols:\n",
    "<br> to determine if strong correlations exists among features. \n",
    "<br> Features which are uncorrelated with the dependent variable are probably good candidates to trim from the model or perform feature engineering \n",
    "<br> If two features are strongly correlated to each other, then only one of them can be used"
   ]
  },
  {
   "cell_type": "code",
   "execution_count": 5,
   "metadata": {
    "id": "Rp_-w0jKkjVA",
    "outputId": "67c58416-7bc9-4e93-9bdc-703d17ce767a"
   },
   "outputs": [
    {
     "data": {
      "text/html": [
       "<style  type=\"text/css\" >\n",
       "#T_0449708b_c854_11eb_b8f3_a08869d5f18crow0_col0,#T_0449708b_c854_11eb_b8f3_a08869d5f18crow1_col1,#T_0449708b_c854_11eb_b8f3_a08869d5f18crow2_col2,#T_0449708b_c854_11eb_b8f3_a08869d5f18crow3_col3,#T_0449708b_c854_11eb_b8f3_a08869d5f18crow4_col4,#T_0449708b_c854_11eb_b8f3_a08869d5f18crow5_col5,#T_0449708b_c854_11eb_b8f3_a08869d5f18crow6_col6,#T_0449708b_c854_11eb_b8f3_a08869d5f18crow7_col7,#T_0449708b_c854_11eb_b8f3_a08869d5f18crow8_col8,#T_0449708b_c854_11eb_b8f3_a08869d5f18crow9_col9,#T_0449708b_c854_11eb_b8f3_a08869d5f18crow10_col10{\n",
       "            background-color:  #023858;\n",
       "            color:  #f1f1f1;\n",
       "        }#T_0449708b_c854_11eb_b8f3_a08869d5f18crow0_col1,#T_0449708b_c854_11eb_b8f3_a08869d5f18crow4_col9{\n",
       "            background-color:  #f0eaf4;\n",
       "            color:  #000000;\n",
       "        }#T_0449708b_c854_11eb_b8f3_a08869d5f18crow0_col2{\n",
       "            background-color:  #d9d8ea;\n",
       "            color:  #000000;\n",
       "        }#T_0449708b_c854_11eb_b8f3_a08869d5f18crow0_col3,#T_0449708b_c854_11eb_b8f3_a08869d5f18crow0_col4,#T_0449708b_c854_11eb_b8f3_a08869d5f18crow0_col10,#T_0449708b_c854_11eb_b8f3_a08869d5f18crow2_col5,#T_0449708b_c854_11eb_b8f3_a08869d5f18crow2_col6,#T_0449708b_c854_11eb_b8f3_a08869d5f18crow4_col0,#T_0449708b_c854_11eb_b8f3_a08869d5f18crow5_col2,#T_0449708b_c854_11eb_b8f3_a08869d5f18crow5_col7,#T_0449708b_c854_11eb_b8f3_a08869d5f18crow5_col8,#T_0449708b_c854_11eb_b8f3_a08869d5f18crow5_col9,#T_0449708b_c854_11eb_b8f3_a08869d5f18crow7_col3,#T_0449708b_c854_11eb_b8f3_a08869d5f18crow8_col1,#T_0449708b_c854_11eb_b8f3_a08869d5f18crow8_col3{\n",
       "            background-color:  #fff7fb;\n",
       "            color:  #000000;\n",
       "        }#T_0449708b_c854_11eb_b8f3_a08869d5f18crow0_col5{\n",
       "            background-color:  #d4d4e8;\n",
       "            color:  #000000;\n",
       "        }#T_0449708b_c854_11eb_b8f3_a08869d5f18crow0_col6{\n",
       "            background-color:  #ece7f2;\n",
       "            color:  #000000;\n",
       "        }#T_0449708b_c854_11eb_b8f3_a08869d5f18crow0_col7,#T_0449708b_c854_11eb_b8f3_a08869d5f18crow4_col1,#T_0449708b_c854_11eb_b8f3_a08869d5f18crow6_col8,#T_0449708b_c854_11eb_b8f3_a08869d5f18crow9_col1{\n",
       "            background-color:  #f8f1f8;\n",
       "            color:  #000000;\n",
       "        }#T_0449708b_c854_11eb_b8f3_a08869d5f18crow0_col8,#T_0449708b_c854_11eb_b8f3_a08869d5f18crow1_col7,#T_0449708b_c854_11eb_b8f3_a08869d5f18crow1_col8,#T_0449708b_c854_11eb_b8f3_a08869d5f18crow3_col7,#T_0449708b_c854_11eb_b8f3_a08869d5f18crow4_col7,#T_0449708b_c854_11eb_b8f3_a08869d5f18crow7_col1{\n",
       "            background-color:  #fdf5fa;\n",
       "            color:  #000000;\n",
       "        }#T_0449708b_c854_11eb_b8f3_a08869d5f18crow0_col9{\n",
       "            background-color:  #fbf4f9;\n",
       "            color:  #000000;\n",
       "        }#T_0449708b_c854_11eb_b8f3_a08869d5f18crow1_col0,#T_0449708b_c854_11eb_b8f3_a08869d5f18crow9_col10{\n",
       "            background-color:  #dcdaeb;\n",
       "            color:  #000000;\n",
       "        }#T_0449708b_c854_11eb_b8f3_a08869d5f18crow1_col2,#T_0449708b_c854_11eb_b8f3_a08869d5f18crow1_col5{\n",
       "            background-color:  #eae6f1;\n",
       "            color:  #000000;\n",
       "        }#T_0449708b_c854_11eb_b8f3_a08869d5f18crow1_col3,#T_0449708b_c854_11eb_b8f3_a08869d5f18crow8_col2{\n",
       "            background-color:  #e1dfed;\n",
       "            color:  #000000;\n",
       "        }#T_0449708b_c854_11eb_b8f3_a08869d5f18crow1_col4,#T_0449708b_c854_11eb_b8f3_a08869d5f18crow1_col10,#T_0449708b_c854_11eb_b8f3_a08869d5f18crow7_col0,#T_0449708b_c854_11eb_b8f3_a08869d5f18crow9_col2{\n",
       "            background-color:  #e7e3f0;\n",
       "            color:  #000000;\n",
       "        }#T_0449708b_c854_11eb_b8f3_a08869d5f18crow1_col6,#T_0449708b_c854_11eb_b8f3_a08869d5f18crow8_col10{\n",
       "            background-color:  #e6e2ef;\n",
       "            color:  #000000;\n",
       "        }#T_0449708b_c854_11eb_b8f3_a08869d5f18crow1_col9{\n",
       "            background-color:  #f3edf5;\n",
       "            color:  #000000;\n",
       "        }#T_0449708b_c854_11eb_b8f3_a08869d5f18crow2_col0{\n",
       "            background-color:  #d7d6e9;\n",
       "            color:  #000000;\n",
       "        }#T_0449708b_c854_11eb_b8f3_a08869d5f18crow2_col1,#T_0449708b_c854_11eb_b8f3_a08869d5f18crow5_col1{\n",
       "            background-color:  #f9f2f8;\n",
       "            color:  #000000;\n",
       "        }#T_0449708b_c854_11eb_b8f3_a08869d5f18crow2_col3{\n",
       "            background-color:  #fef6fb;\n",
       "            color:  #000000;\n",
       "        }#T_0449708b_c854_11eb_b8f3_a08869d5f18crow2_col4,#T_0449708b_c854_11eb_b8f3_a08869d5f18crow2_col10,#T_0449708b_c854_11eb_b8f3_a08869d5f18crow4_col5,#T_0449708b_c854_11eb_b8f3_a08869d5f18crow5_col10{\n",
       "            background-color:  #e2dfee;\n",
       "            color:  #000000;\n",
       "        }#T_0449708b_c854_11eb_b8f3_a08869d5f18crow2_col7{\n",
       "            background-color:  #f7f0f7;\n",
       "            color:  #000000;\n",
       "        }#T_0449708b_c854_11eb_b8f3_a08869d5f18crow2_col8,#T_0449708b_c854_11eb_b8f3_a08869d5f18crow2_col9,#T_0449708b_c854_11eb_b8f3_a08869d5f18crow7_col5,#T_0449708b_c854_11eb_b8f3_a08869d5f18crow7_col6{\n",
       "            background-color:  #f1ebf4;\n",
       "            color:  #000000;\n",
       "        }#T_0449708b_c854_11eb_b8f3_a08869d5f18crow3_col0,#T_0449708b_c854_11eb_b8f3_a08869d5f18crow8_col7,#T_0449708b_c854_11eb_b8f3_a08869d5f18crow10_col7{\n",
       "            background-color:  #eee8f3;\n",
       "            color:  #000000;\n",
       "        }#T_0449708b_c854_11eb_b8f3_a08869d5f18crow3_col1,#T_0449708b_c854_11eb_b8f3_a08869d5f18crow10_col2{\n",
       "            background-color:  #e0dded;\n",
       "            color:  #000000;\n",
       "        }#T_0449708b_c854_11eb_b8f3_a08869d5f18crow3_col2,#T_0449708b_c854_11eb_b8f3_a08869d5f18crow9_col6{\n",
       "            background-color:  #eee9f3;\n",
       "            color:  #000000;\n",
       "        }#T_0449708b_c854_11eb_b8f3_a08869d5f18crow3_col4{\n",
       "            background-color:  #9ab8d8;\n",
       "            color:  #000000;\n",
       "        }#T_0449708b_c854_11eb_b8f3_a08869d5f18crow3_col5{\n",
       "            background-color:  #c4cbe3;\n",
       "            color:  #000000;\n",
       "        }#T_0449708b_c854_11eb_b8f3_a08869d5f18crow3_col6{\n",
       "            background-color:  #76aad0;\n",
       "            color:  #000000;\n",
       "        }#T_0449708b_c854_11eb_b8f3_a08869d5f18crow3_col8{\n",
       "            background-color:  #fbf3f9;\n",
       "            color:  #000000;\n",
       "        }#T_0449708b_c854_11eb_b8f3_a08869d5f18crow3_col9,#T_0449708b_c854_11eb_b8f3_a08869d5f18crow6_col1,#T_0449708b_c854_11eb_b8f3_a08869d5f18crow9_col7{\n",
       "            background-color:  #ebe6f2;\n",
       "            color:  #000000;\n",
       "        }#T_0449708b_c854_11eb_b8f3_a08869d5f18crow3_col10{\n",
       "            background-color:  #bfc9e1;\n",
       "            color:  #000000;\n",
       "        }#T_0449708b_c854_11eb_b8f3_a08869d5f18crow4_col2,#T_0449708b_c854_11eb_b8f3_a08869d5f18crow7_col9,#T_0449708b_c854_11eb_b8f3_a08869d5f18crow10_col9{\n",
       "            background-color:  #e4e1ef;\n",
       "            color:  #000000;\n",
       "        }#T_0449708b_c854_11eb_b8f3_a08869d5f18crow4_col3{\n",
       "            background-color:  #b7c5df;\n",
       "            color:  #000000;\n",
       "        }#T_0449708b_c854_11eb_b8f3_a08869d5f18crow4_col6{\n",
       "            background-color:  #bdc8e1;\n",
       "            color:  #000000;\n",
       "        }#T_0449708b_c854_11eb_b8f3_a08869d5f18crow4_col8{\n",
       "            background-color:  #faf3f9;\n",
       "            color:  #000000;\n",
       "        }#T_0449708b_c854_11eb_b8f3_a08869d5f18crow4_col10,#T_0449708b_c854_11eb_b8f3_a08869d5f18crow5_col0{\n",
       "            background-color:  #d2d3e7;\n",
       "            color:  #000000;\n",
       "        }#T_0449708b_c854_11eb_b8f3_a08869d5f18crow5_col3{\n",
       "            background-color:  #dbdaeb;\n",
       "            color:  #000000;\n",
       "        }#T_0449708b_c854_11eb_b8f3_a08869d5f18crow5_col4{\n",
       "            background-color:  #e0deed;\n",
       "            color:  #000000;\n",
       "        }#T_0449708b_c854_11eb_b8f3_a08869d5f18crow5_col6{\n",
       "            background-color:  #96b6d7;\n",
       "            color:  #000000;\n",
       "        }#T_0449708b_c854_11eb_b8f3_a08869d5f18crow6_col0{\n",
       "            background-color:  #dddbec;\n",
       "            color:  #000000;\n",
       "        }#T_0449708b_c854_11eb_b8f3_a08869d5f18crow6_col2{\n",
       "            background-color:  #f4eef6;\n",
       "            color:  #000000;\n",
       "        }#T_0449708b_c854_11eb_b8f3_a08869d5f18crow6_col3{\n",
       "            background-color:  #7eadd1;\n",
       "            color:  #000000;\n",
       "        }#T_0449708b_c854_11eb_b8f3_a08869d5f18crow6_col4{\n",
       "            background-color:  #abbfdc;\n",
       "            color:  #000000;\n",
       "        }#T_0449708b_c854_11eb_b8f3_a08869d5f18crow6_col5{\n",
       "            background-color:  #84b0d3;\n",
       "            color:  #000000;\n",
       "        }#T_0449708b_c854_11eb_b8f3_a08869d5f18crow6_col7,#T_0449708b_c854_11eb_b8f3_a08869d5f18crow10_col1{\n",
       "            background-color:  #f5eef6;\n",
       "            color:  #000000;\n",
       "        }#T_0449708b_c854_11eb_b8f3_a08869d5f18crow6_col9,#T_0449708b_c854_11eb_b8f3_a08869d5f18crow7_col8,#T_0449708b_c854_11eb_b8f3_a08869d5f18crow8_col4{\n",
       "            background-color:  #ede7f2;\n",
       "            color:  #000000;\n",
       "        }#T_0449708b_c854_11eb_b8f3_a08869d5f18crow6_col10{\n",
       "            background-color:  #b3c3de;\n",
       "            color:  #000000;\n",
       "        }#T_0449708b_c854_11eb_b8f3_a08869d5f18crow7_col2{\n",
       "            background-color:  #e8e4f0;\n",
       "            color:  #000000;\n",
       "        }#T_0449708b_c854_11eb_b8f3_a08869d5f18crow7_col4{\n",
       "            background-color:  #ede8f3;\n",
       "            color:  #000000;\n",
       "        }#T_0449708b_c854_11eb_b8f3_a08869d5f18crow7_col10{\n",
       "            background-color:  #dedcec;\n",
       "            color:  #000000;\n",
       "        }#T_0449708b_c854_11eb_b8f3_a08869d5f18crow8_col0{\n",
       "            background-color:  #efe9f3;\n",
       "            color:  #000000;\n",
       "        }#T_0449708b_c854_11eb_b8f3_a08869d5f18crow8_col5,#T_0449708b_c854_11eb_b8f3_a08869d5f18crow9_col3{\n",
       "            background-color:  #f2ecf5;\n",
       "            color:  #000000;\n",
       "        }#T_0449708b_c854_11eb_b8f3_a08869d5f18crow8_col6{\n",
       "            background-color:  #f5eff6;\n",
       "            color:  #000000;\n",
       "        }#T_0449708b_c854_11eb_b8f3_a08869d5f18crow8_col9{\n",
       "            background-color:  #bcc7e1;\n",
       "            color:  #000000;\n",
       "        }#T_0449708b_c854_11eb_b8f3_a08869d5f18crow9_col0,#T_0449708b_c854_11eb_b8f3_a08869d5f18crow10_col8{\n",
       "            background-color:  #f1ebf5;\n",
       "            color:  #000000;\n",
       "        }#T_0449708b_c854_11eb_b8f3_a08869d5f18crow9_col4{\n",
       "            background-color:  #e5e1ef;\n",
       "            color:  #000000;\n",
       "        }#T_0449708b_c854_11eb_b8f3_a08869d5f18crow9_col5{\n",
       "            background-color:  #f6eff7;\n",
       "            color:  #000000;\n",
       "        }#T_0449708b_c854_11eb_b8f3_a08869d5f18crow9_col8{\n",
       "            background-color:  #c1cae2;\n",
       "            color:  #000000;\n",
       "        }#T_0449708b_c854_11eb_b8f3_a08869d5f18crow10_col0{\n",
       "            background-color:  #fcf4fa;\n",
       "            color:  #000000;\n",
       "        }#T_0449708b_c854_11eb_b8f3_a08869d5f18crow10_col3{\n",
       "            background-color:  #d5d5e8;\n",
       "            color:  #000000;\n",
       "        }#T_0449708b_c854_11eb_b8f3_a08869d5f18crow10_col4{\n",
       "            background-color:  #cdd0e5;\n",
       "            color:  #000000;\n",
       "        }#T_0449708b_c854_11eb_b8f3_a08869d5f18crow10_col5{\n",
       "            background-color:  #dfddec;\n",
       "            color:  #000000;\n",
       "        }#T_0449708b_c854_11eb_b8f3_a08869d5f18crow10_col6{\n",
       "            background-color:  #c0c9e2;\n",
       "            color:  #000000;\n",
       "        }</style><table id=\"T_0449708b_c854_11eb_b8f3_a08869d5f18c\" ><thead>    <tr>        <th class=\"blank level0\" ></th>        <th class=\"col_heading level0 col0\" >admission_type_id</th>        <th class=\"col_heading level0 col1\" >discharge_disposition_id</th>        <th class=\"col_heading level0 col2\" >admission_source_id</th>        <th class=\"col_heading level0 col3\" >time_in_hospital</th>        <th class=\"col_heading level0 col4\" >num_lab_procedures</th>        <th class=\"col_heading level0 col5\" >num_procedures</th>        <th class=\"col_heading level0 col6\" >num_medications</th>        <th class=\"col_heading level0 col7\" >number_outpatient</th>        <th class=\"col_heading level0 col8\" >number_emergency</th>        <th class=\"col_heading level0 col9\" >number_inpatient</th>        <th class=\"col_heading level0 col10\" >number_diagnoses</th>    </tr></thead><tbody>\n",
       "                <tr>\n",
       "                        <th id=\"T_0449708b_c854_11eb_b8f3_a08869d5f18clevel0_row0\" class=\"row_heading level0 row0\" >admission_type_id</th>\n",
       "                        <td id=\"T_0449708b_c854_11eb_b8f3_a08869d5f18crow0_col0\" class=\"data row0 col0\" >1.00</td>\n",
       "                        <td id=\"T_0449708b_c854_11eb_b8f3_a08869d5f18crow0_col1\" class=\"data row0 col1\" >0.08</td>\n",
       "                        <td id=\"T_0449708b_c854_11eb_b8f3_a08869d5f18crow0_col2\" class=\"data row0 col2\" >0.11</td>\n",
       "                        <td id=\"T_0449708b_c854_11eb_b8f3_a08869d5f18crow0_col3\" class=\"data row0 col3\" >-0.01</td>\n",
       "                        <td id=\"T_0449708b_c854_11eb_b8f3_a08869d5f18crow0_col4\" class=\"data row0 col4\" >-0.14</td>\n",
       "                        <td id=\"T_0449708b_c854_11eb_b8f3_a08869d5f18crow0_col5\" class=\"data row0 col5\" >0.13</td>\n",
       "                        <td id=\"T_0449708b_c854_11eb_b8f3_a08869d5f18crow0_col6\" class=\"data row0 col6\" >0.08</td>\n",
       "                        <td id=\"T_0449708b_c854_11eb_b8f3_a08869d5f18crow0_col7\" class=\"data row0 col7\" >0.03</td>\n",
       "                        <td id=\"T_0449708b_c854_11eb_b8f3_a08869d5f18crow0_col8\" class=\"data row0 col8\" >-0.02</td>\n",
       "                        <td id=\"T_0449708b_c854_11eb_b8f3_a08869d5f18crow0_col9\" class=\"data row0 col9\" >-0.04</td>\n",
       "                        <td id=\"T_0449708b_c854_11eb_b8f3_a08869d5f18crow0_col10\" class=\"data row0 col10\" >-0.12</td>\n",
       "            </tr>\n",
       "            <tr>\n",
       "                        <th id=\"T_0449708b_c854_11eb_b8f3_a08869d5f18clevel0_row1\" class=\"row_heading level0 row1\" >discharge_disposition_id</th>\n",
       "                        <td id=\"T_0449708b_c854_11eb_b8f3_a08869d5f18crow1_col0\" class=\"data row1 col0\" >0.08</td>\n",
       "                        <td id=\"T_0449708b_c854_11eb_b8f3_a08869d5f18crow1_col1\" class=\"data row1 col1\" >1.00</td>\n",
       "                        <td id=\"T_0449708b_c854_11eb_b8f3_a08869d5f18crow1_col2\" class=\"data row1 col2\" >0.02</td>\n",
       "                        <td id=\"T_0449708b_c854_11eb_b8f3_a08869d5f18crow1_col3\" class=\"data row1 col3\" >0.16</td>\n",
       "                        <td id=\"T_0449708b_c854_11eb_b8f3_a08869d5f18crow1_col4\" class=\"data row1 col4\" >0.02</td>\n",
       "                        <td id=\"T_0449708b_c854_11eb_b8f3_a08869d5f18crow1_col5\" class=\"data row1 col5\" >0.02</td>\n",
       "                        <td id=\"T_0449708b_c854_11eb_b8f3_a08869d5f18crow1_col6\" class=\"data row1 col6\" >0.11</td>\n",
       "                        <td id=\"T_0449708b_c854_11eb_b8f3_a08869d5f18crow1_col7\" class=\"data row1 col7\" >-0.01</td>\n",
       "                        <td id=\"T_0449708b_c854_11eb_b8f3_a08869d5f18crow1_col8\" class=\"data row1 col8\" >-0.02</td>\n",
       "                        <td id=\"T_0449708b_c854_11eb_b8f3_a08869d5f18crow1_col9\" class=\"data row1 col9\" >0.02</td>\n",
       "                        <td id=\"T_0449708b_c854_11eb_b8f3_a08869d5f18crow1_col10\" class=\"data row1 col10\" >0.05</td>\n",
       "            </tr>\n",
       "            <tr>\n",
       "                        <th id=\"T_0449708b_c854_11eb_b8f3_a08869d5f18clevel0_row2\" class=\"row_heading level0 row2\" >admission_source_id</th>\n",
       "                        <td id=\"T_0449708b_c854_11eb_b8f3_a08869d5f18crow2_col0\" class=\"data row2 col0\" >0.11</td>\n",
       "                        <td id=\"T_0449708b_c854_11eb_b8f3_a08869d5f18crow2_col1\" class=\"data row2 col1\" >0.02</td>\n",
       "                        <td id=\"T_0449708b_c854_11eb_b8f3_a08869d5f18crow2_col2\" class=\"data row2 col2\" >1.00</td>\n",
       "                        <td id=\"T_0449708b_c854_11eb_b8f3_a08869d5f18crow2_col3\" class=\"data row2 col3\" >-0.01</td>\n",
       "                        <td id=\"T_0449708b_c854_11eb_b8f3_a08869d5f18crow2_col4\" class=\"data row2 col4\" >0.05</td>\n",
       "                        <td id=\"T_0449708b_c854_11eb_b8f3_a08869d5f18crow2_col5\" class=\"data row2 col5\" >-0.14</td>\n",
       "                        <td id=\"T_0449708b_c854_11eb_b8f3_a08869d5f18crow2_col6\" class=\"data row2 col6\" >-0.05</td>\n",
       "                        <td id=\"T_0449708b_c854_11eb_b8f3_a08869d5f18crow2_col7\" class=\"data row2 col7\" >0.03</td>\n",
       "                        <td id=\"T_0449708b_c854_11eb_b8f3_a08869d5f18crow2_col8\" class=\"data row2 col8\" >0.06</td>\n",
       "                        <td id=\"T_0449708b_c854_11eb_b8f3_a08869d5f18crow2_col9\" class=\"data row2 col9\" >0.04</td>\n",
       "                        <td id=\"T_0449708b_c854_11eb_b8f3_a08869d5f18crow2_col10\" class=\"data row2 col10\" >0.07</td>\n",
       "            </tr>\n",
       "            <tr>\n",
       "                        <th id=\"T_0449708b_c854_11eb_b8f3_a08869d5f18clevel0_row3\" class=\"row_heading level0 row3\" >time_in_hospital</th>\n",
       "                        <td id=\"T_0449708b_c854_11eb_b8f3_a08869d5f18crow3_col0\" class=\"data row3 col0\" >-0.01</td>\n",
       "                        <td id=\"T_0449708b_c854_11eb_b8f3_a08869d5f18crow3_col1\" class=\"data row3 col1\" >0.16</td>\n",
       "                        <td id=\"T_0449708b_c854_11eb_b8f3_a08869d5f18crow3_col2\" class=\"data row3 col2\" >-0.01</td>\n",
       "                        <td id=\"T_0449708b_c854_11eb_b8f3_a08869d5f18crow3_col3\" class=\"data row3 col3\" >1.00</td>\n",
       "                        <td id=\"T_0449708b_c854_11eb_b8f3_a08869d5f18crow3_col4\" class=\"data row3 col4\" >0.32</td>\n",
       "                        <td id=\"T_0449708b_c854_11eb_b8f3_a08869d5f18crow3_col5\" class=\"data row3 col5\" >0.19</td>\n",
       "                        <td id=\"T_0449708b_c854_11eb_b8f3_a08869d5f18crow3_col6\" class=\"data row3 col6\" >0.47</td>\n",
       "                        <td id=\"T_0449708b_c854_11eb_b8f3_a08869d5f18crow3_col7\" class=\"data row3 col7\" >-0.01</td>\n",
       "                        <td id=\"T_0449708b_c854_11eb_b8f3_a08869d5f18crow3_col8\" class=\"data row3 col8\" >-0.01</td>\n",
       "                        <td id=\"T_0449708b_c854_11eb_b8f3_a08869d5f18crow3_col9\" class=\"data row3 col9\" >0.07</td>\n",
       "                        <td id=\"T_0449708b_c854_11eb_b8f3_a08869d5f18crow3_col10\" class=\"data row3 col10\" >0.22</td>\n",
       "            </tr>\n",
       "            <tr>\n",
       "                        <th id=\"T_0449708b_c854_11eb_b8f3_a08869d5f18clevel0_row4\" class=\"row_heading level0 row4\" >num_lab_procedures</th>\n",
       "                        <td id=\"T_0449708b_c854_11eb_b8f3_a08869d5f18crow4_col0\" class=\"data row4 col0\" >-0.14</td>\n",
       "                        <td id=\"T_0449708b_c854_11eb_b8f3_a08869d5f18crow4_col1\" class=\"data row4 col1\" >0.02</td>\n",
       "                        <td id=\"T_0449708b_c854_11eb_b8f3_a08869d5f18crow4_col2\" class=\"data row4 col2\" >0.05</td>\n",
       "                        <td id=\"T_0449708b_c854_11eb_b8f3_a08869d5f18crow4_col3\" class=\"data row4 col3\" >0.32</td>\n",
       "                        <td id=\"T_0449708b_c854_11eb_b8f3_a08869d5f18crow4_col4\" class=\"data row4 col4\" >1.00</td>\n",
       "                        <td id=\"T_0449708b_c854_11eb_b8f3_a08869d5f18crow4_col5\" class=\"data row4 col5\" >0.06</td>\n",
       "                        <td id=\"T_0449708b_c854_11eb_b8f3_a08869d5f18crow4_col6\" class=\"data row4 col6\" >0.27</td>\n",
       "                        <td id=\"T_0449708b_c854_11eb_b8f3_a08869d5f18crow4_col7\" class=\"data row4 col7\" >-0.01</td>\n",
       "                        <td id=\"T_0449708b_c854_11eb_b8f3_a08869d5f18crow4_col8\" class=\"data row4 col8\" >-0.00</td>\n",
       "                        <td id=\"T_0449708b_c854_11eb_b8f3_a08869d5f18crow4_col9\" class=\"data row4 col9\" >0.04</td>\n",
       "                        <td id=\"T_0449708b_c854_11eb_b8f3_a08869d5f18crow4_col10\" class=\"data row4 col10\" >0.15</td>\n",
       "            </tr>\n",
       "            <tr>\n",
       "                        <th id=\"T_0449708b_c854_11eb_b8f3_a08869d5f18clevel0_row5\" class=\"row_heading level0 row5\" >num_procedures</th>\n",
       "                        <td id=\"T_0449708b_c854_11eb_b8f3_a08869d5f18crow5_col0\" class=\"data row5 col0\" >0.13</td>\n",
       "                        <td id=\"T_0449708b_c854_11eb_b8f3_a08869d5f18crow5_col1\" class=\"data row5 col1\" >0.02</td>\n",
       "                        <td id=\"T_0449708b_c854_11eb_b8f3_a08869d5f18crow5_col2\" class=\"data row5 col2\" >-0.14</td>\n",
       "                        <td id=\"T_0449708b_c854_11eb_b8f3_a08869d5f18crow5_col3\" class=\"data row5 col3\" >0.19</td>\n",
       "                        <td id=\"T_0449708b_c854_11eb_b8f3_a08869d5f18crow5_col4\" class=\"data row5 col4\" >0.06</td>\n",
       "                        <td id=\"T_0449708b_c854_11eb_b8f3_a08869d5f18crow5_col5\" class=\"data row5 col5\" >1.00</td>\n",
       "                        <td id=\"T_0449708b_c854_11eb_b8f3_a08869d5f18crow5_col6\" class=\"data row5 col6\" >0.39</td>\n",
       "                        <td id=\"T_0449708b_c854_11eb_b8f3_a08869d5f18crow5_col7\" class=\"data row5 col7\" >-0.02</td>\n",
       "                        <td id=\"T_0449708b_c854_11eb_b8f3_a08869d5f18crow5_col8\" class=\"data row5 col8\" >-0.04</td>\n",
       "                        <td id=\"T_0449708b_c854_11eb_b8f3_a08869d5f18crow5_col9\" class=\"data row5 col9\" >-0.07</td>\n",
       "                        <td id=\"T_0449708b_c854_11eb_b8f3_a08869d5f18crow5_col10\" class=\"data row5 col10\" >0.07</td>\n",
       "            </tr>\n",
       "            <tr>\n",
       "                        <th id=\"T_0449708b_c854_11eb_b8f3_a08869d5f18clevel0_row6\" class=\"row_heading level0 row6\" >num_medications</th>\n",
       "                        <td id=\"T_0449708b_c854_11eb_b8f3_a08869d5f18crow6_col0\" class=\"data row6 col0\" >0.08</td>\n",
       "                        <td id=\"T_0449708b_c854_11eb_b8f3_a08869d5f18crow6_col1\" class=\"data row6 col1\" >0.11</td>\n",
       "                        <td id=\"T_0449708b_c854_11eb_b8f3_a08869d5f18crow6_col2\" class=\"data row6 col2\" >-0.05</td>\n",
       "                        <td id=\"T_0449708b_c854_11eb_b8f3_a08869d5f18crow6_col3\" class=\"data row6 col3\" >0.47</td>\n",
       "                        <td id=\"T_0449708b_c854_11eb_b8f3_a08869d5f18crow6_col4\" class=\"data row6 col4\" >0.27</td>\n",
       "                        <td id=\"T_0449708b_c854_11eb_b8f3_a08869d5f18crow6_col5\" class=\"data row6 col5\" >0.39</td>\n",
       "                        <td id=\"T_0449708b_c854_11eb_b8f3_a08869d5f18crow6_col6\" class=\"data row6 col6\" >1.00</td>\n",
       "                        <td id=\"T_0449708b_c854_11eb_b8f3_a08869d5f18crow6_col7\" class=\"data row6 col7\" >0.05</td>\n",
       "                        <td id=\"T_0449708b_c854_11eb_b8f3_a08869d5f18crow6_col8\" class=\"data row6 col8\" >0.01</td>\n",
       "                        <td id=\"T_0449708b_c854_11eb_b8f3_a08869d5f18crow6_col9\" class=\"data row6 col9\" >0.06</td>\n",
       "                        <td id=\"T_0449708b_c854_11eb_b8f3_a08869d5f18crow6_col10\" class=\"data row6 col10\" >0.26</td>\n",
       "            </tr>\n",
       "            <tr>\n",
       "                        <th id=\"T_0449708b_c854_11eb_b8f3_a08869d5f18clevel0_row7\" class=\"row_heading level0 row7\" >number_outpatient</th>\n",
       "                        <td id=\"T_0449708b_c854_11eb_b8f3_a08869d5f18crow7_col0\" class=\"data row7 col0\" >0.03</td>\n",
       "                        <td id=\"T_0449708b_c854_11eb_b8f3_a08869d5f18crow7_col1\" class=\"data row7 col1\" >-0.01</td>\n",
       "                        <td id=\"T_0449708b_c854_11eb_b8f3_a08869d5f18crow7_col2\" class=\"data row7 col2\" >0.03</td>\n",
       "                        <td id=\"T_0449708b_c854_11eb_b8f3_a08869d5f18crow7_col3\" class=\"data row7 col3\" >-0.01</td>\n",
       "                        <td id=\"T_0449708b_c854_11eb_b8f3_a08869d5f18crow7_col4\" class=\"data row7 col4\" >-0.01</td>\n",
       "                        <td id=\"T_0449708b_c854_11eb_b8f3_a08869d5f18crow7_col5\" class=\"data row7 col5\" >-0.02</td>\n",
       "                        <td id=\"T_0449708b_c854_11eb_b8f3_a08869d5f18crow7_col6\" class=\"data row7 col6\" >0.05</td>\n",
       "                        <td id=\"T_0449708b_c854_11eb_b8f3_a08869d5f18crow7_col7\" class=\"data row7 col7\" >1.00</td>\n",
       "                        <td id=\"T_0449708b_c854_11eb_b8f3_a08869d5f18crow7_col8\" class=\"data row7 col8\" >0.09</td>\n",
       "                        <td id=\"T_0449708b_c854_11eb_b8f3_a08869d5f18crow7_col9\" class=\"data row7 col9\" >0.11</td>\n",
       "                        <td id=\"T_0449708b_c854_11eb_b8f3_a08869d5f18crow7_col10\" class=\"data row7 col10\" >0.09</td>\n",
       "            </tr>\n",
       "            <tr>\n",
       "                        <th id=\"T_0449708b_c854_11eb_b8f3_a08869d5f18clevel0_row8\" class=\"row_heading level0 row8\" >number_emergency</th>\n",
       "                        <td id=\"T_0449708b_c854_11eb_b8f3_a08869d5f18crow8_col0\" class=\"data row8 col0\" >-0.02</td>\n",
       "                        <td id=\"T_0449708b_c854_11eb_b8f3_a08869d5f18crow8_col1\" class=\"data row8 col1\" >-0.02</td>\n",
       "                        <td id=\"T_0449708b_c854_11eb_b8f3_a08869d5f18crow8_col2\" class=\"data row8 col2\" >0.06</td>\n",
       "                        <td id=\"T_0449708b_c854_11eb_b8f3_a08869d5f18crow8_col3\" class=\"data row8 col3\" >-0.01</td>\n",
       "                        <td id=\"T_0449708b_c854_11eb_b8f3_a08869d5f18crow8_col4\" class=\"data row8 col4\" >-0.00</td>\n",
       "                        <td id=\"T_0449708b_c854_11eb_b8f3_a08869d5f18crow8_col5\" class=\"data row8 col5\" >-0.04</td>\n",
       "                        <td id=\"T_0449708b_c854_11eb_b8f3_a08869d5f18crow8_col6\" class=\"data row8 col6\" >0.01</td>\n",
       "                        <td id=\"T_0449708b_c854_11eb_b8f3_a08869d5f18crow8_col7\" class=\"data row8 col7\" >0.09</td>\n",
       "                        <td id=\"T_0449708b_c854_11eb_b8f3_a08869d5f18crow8_col8\" class=\"data row8 col8\" >1.00</td>\n",
       "                        <td id=\"T_0449708b_c854_11eb_b8f3_a08869d5f18crow8_col9\" class=\"data row8 col9\" >0.27</td>\n",
       "                        <td id=\"T_0449708b_c854_11eb_b8f3_a08869d5f18crow8_col10\" class=\"data row8 col10\" >0.06</td>\n",
       "            </tr>\n",
       "            <tr>\n",
       "                        <th id=\"T_0449708b_c854_11eb_b8f3_a08869d5f18clevel0_row9\" class=\"row_heading level0 row9\" >number_inpatient</th>\n",
       "                        <td id=\"T_0449708b_c854_11eb_b8f3_a08869d5f18crow9_col0\" class=\"data row9 col0\" >-0.04</td>\n",
       "                        <td id=\"T_0449708b_c854_11eb_b8f3_a08869d5f18crow9_col1\" class=\"data row9 col1\" >0.02</td>\n",
       "                        <td id=\"T_0449708b_c854_11eb_b8f3_a08869d5f18crow9_col2\" class=\"data row9 col2\" >0.04</td>\n",
       "                        <td id=\"T_0449708b_c854_11eb_b8f3_a08869d5f18crow9_col3\" class=\"data row9 col3\" >0.07</td>\n",
       "                        <td id=\"T_0449708b_c854_11eb_b8f3_a08869d5f18crow9_col4\" class=\"data row9 col4\" >0.04</td>\n",
       "                        <td id=\"T_0449708b_c854_11eb_b8f3_a08869d5f18crow9_col5\" class=\"data row9 col5\" >-0.07</td>\n",
       "                        <td id=\"T_0449708b_c854_11eb_b8f3_a08869d5f18crow9_col6\" class=\"data row9 col6\" >0.06</td>\n",
       "                        <td id=\"T_0449708b_c854_11eb_b8f3_a08869d5f18crow9_col7\" class=\"data row9 col7\" >0.11</td>\n",
       "                        <td id=\"T_0449708b_c854_11eb_b8f3_a08869d5f18crow9_col8\" class=\"data row9 col8\" >0.27</td>\n",
       "                        <td id=\"T_0449708b_c854_11eb_b8f3_a08869d5f18crow9_col9\" class=\"data row9 col9\" >1.00</td>\n",
       "                        <td id=\"T_0449708b_c854_11eb_b8f3_a08869d5f18crow9_col10\" class=\"data row9 col10\" >0.10</td>\n",
       "            </tr>\n",
       "            <tr>\n",
       "                        <th id=\"T_0449708b_c854_11eb_b8f3_a08869d5f18clevel0_row10\" class=\"row_heading level0 row10\" >number_diagnoses</th>\n",
       "                        <td id=\"T_0449708b_c854_11eb_b8f3_a08869d5f18crow10_col0\" class=\"data row10 col0\" >-0.12</td>\n",
       "                        <td id=\"T_0449708b_c854_11eb_b8f3_a08869d5f18crow10_col1\" class=\"data row10 col1\" >0.05</td>\n",
       "                        <td id=\"T_0449708b_c854_11eb_b8f3_a08869d5f18crow10_col2\" class=\"data row10 col2\" >0.07</td>\n",
       "                        <td id=\"T_0449708b_c854_11eb_b8f3_a08869d5f18crow10_col3\" class=\"data row10 col3\" >0.22</td>\n",
       "                        <td id=\"T_0449708b_c854_11eb_b8f3_a08869d5f18crow10_col4\" class=\"data row10 col4\" >0.15</td>\n",
       "                        <td id=\"T_0449708b_c854_11eb_b8f3_a08869d5f18crow10_col5\" class=\"data row10 col5\" >0.07</td>\n",
       "                        <td id=\"T_0449708b_c854_11eb_b8f3_a08869d5f18crow10_col6\" class=\"data row10 col6\" >0.26</td>\n",
       "                        <td id=\"T_0449708b_c854_11eb_b8f3_a08869d5f18crow10_col7\" class=\"data row10 col7\" >0.09</td>\n",
       "                        <td id=\"T_0449708b_c854_11eb_b8f3_a08869d5f18crow10_col8\" class=\"data row10 col8\" >0.06</td>\n",
       "                        <td id=\"T_0449708b_c854_11eb_b8f3_a08869d5f18crow10_col9\" class=\"data row10 col9\" >0.10</td>\n",
       "                        <td id=\"T_0449708b_c854_11eb_b8f3_a08869d5f18crow10_col10\" class=\"data row10 col10\" >1.00</td>\n",
       "            </tr>\n",
       "    </tbody></table>"
      ],
      "text/plain": [
       "<pandas.io.formats.style.Styler at 0x1e4b295abb0>"
      ]
     },
     "execution_count": 5,
     "metadata": {},
     "output_type": "execute_result"
    }
   ],
   "source": [
    "def correlation_num_cols():\n",
    "    numerics = ['int16', 'int32', 'int64', 'float16', 'float32', 'float64']\n",
    "    numeric_cols = data.select_dtypes(include=numerics).columns\n",
    "    return data.corr().style.background_gradient().set_precision(2)\n",
    "\n",
    "correlation_num_cols()"
   ]
  },
  {
   "cell_type": "markdown",
   "metadata": {},
   "source": [
    "##### col_split:\n",
    "<br> feature engineered age column to keep the average instead of range"
   ]
  },
  {
   "cell_type": "code",
   "execution_count": 6,
   "metadata": {
    "id": "Rrw9Y9MkkjVA"
   },
   "outputs": [],
   "source": [
    "def col_split(df, col):\n",
    "    df[col]=0.5*(df[col].str.partition('-')[0].astype(float)+\n",
    "                    df[col].str.partition('-')[2].astype(float))\n",
    "    return df\n",
    "\n",
    "data[\"age\"] = data[\"age\"].map(lambda x: x.lstrip('[').rstrip(')'))\n",
    "data = col_split(data, \"age\")"
   ]
  },
  {
   "cell_type": "code",
   "execution_count": 7,
   "metadata": {
    "id": "6sfNViGhkjVB",
    "outputId": "0f8839ab-d04c-4d3f-9017-1680c6dd995d"
   },
   "outputs": [
    {
     "data": {
      "text/plain": [
       "<AxesSubplot:ylabel='Density'>"
      ]
     },
     "execution_count": 7,
     "metadata": {},
     "output_type": "execute_result"
    },
    {
     "data": {
      "image/png": "[encoded data removed]",
      "text/plain": [
       "<Figure size 432x288 with 1 Axes>"
      ]
     },
     "metadata": {
      "needs_background": "light"
     },
     "output_type": "display_data"
    }
   ],
   "source": [
    "# check distribution\n",
    "data[\"age\"].plot.hist(alpha=0.5)\n",
    "data[\"age\"].plot.density()"
   ]
  },
  {
   "cell_type": "code",
   "execution_count": 8,
   "metadata": {},
   "outputs": [
    {
     "data": {
      "text/plain": [
       "Index(['race', 'gender', 'age', 'admission_type_id',\n",
       "       'discharge_disposition_id', 'admission_source_id', 'time_in_hospital',\n",
       "       'num_lab_procedures', 'num_procedures', 'num_medications',\n",
       "       'number_outpatient', 'number_emergency', 'number_inpatient', 'diag_1',\n",
       "       'diag_2', 'diag_3', 'number_diagnoses', 'max_glu_serum', 'A1Cresult',\n",
       "       'metformin', 'repaglinide', 'nateglinide', 'chlorpropamide',\n",
       "       'glimepiride', 'glipizide', 'glyburide', 'pioglitazone',\n",
       "       'rosiglitazone', 'acarbose', 'miglitol', 'tolazamide', 'insulin',\n",
       "       'metformin-pioglitazone', 'change', 'diabetesMed', 'readmitted'],\n",
       "      dtype='object')"
      ]
     },
     "execution_count": 8,
     "metadata": {},
     "output_type": "execute_result"
    }
   ],
   "source": [
    "data.columns"
   ]
  },
  {
   "cell_type": "code",
   "execution_count": 9,
   "metadata": {},
   "outputs": [
    {
     "data": {
      "image/png": "[encoded data removed]",
      "text/plain": [
       "<Figure size 432x288 with 1 Axes>"
      ]
     },
     "metadata": {
      "needs_background": "light"
     },
     "output_type": "display_data"
    },
    {
     "data": {
      "image/png": "[encoded data removed]",
      "text/plain": [
       "<Figure size 432x288 with 1 Axes>"
      ]
     },
     "metadata": {
      "needs_background": "light"
     },
     "output_type": "display_data"
    },
    {
     "data": {
      "image/png": "[encoded data removed]",
      "text/plain": [
       "<Figure size 432x288 with 1 Axes>"
      ]
     },
     "metadata": {
      "needs_background": "light"
     },
     "output_type": "display_data"
    },
    {
     "data": {
      "image/png": "[encoded data removed]",
      "text/plain": [
       "<Figure size 432x288 with 1 Axes>"
      ]
     },
     "metadata": {
      "needs_background": "light"
     },
     "output_type": "display_data"
    }
   ],
   "source": [
    "cols = [\"gender\", \"A1Cresult\", \"readmitted\", \"admission_source_id\"] \n",
    "def plot_categorical_bar():# for categorical var\n",
    "    for col in cols:\n",
    "        data[col].value_counts().plot(kind='bar')\n",
    "        plt.show()\n",
    "plot_categorical_bar()"
   ]
  },
  {
   "cell_type": "code",
   "execution_count": 10,
   "metadata": {
    "id": "fprYM0BgkjVC"
   },
   "outputs": [
    {
     "data": {
      "image/png": "[encoded data removed]",
      "text/plain": [
       "<Figure size 432x288 with 1 Axes>"
      ]
     },
     "metadata": {
      "needs_background": "light"
     },
     "output_type": "display_data"
    }
   ],
   "source": [
    "# import numpy\n",
    "# import matplotlib.pyplot as plt\n",
    "\n",
    "cols = [\"age\"] # for continuous var\n",
    "def plot_density_bar():\n",
    "    for col in cols:\n",
    "        col_density = pd.crosstab(index = data[col],  \n",
    "                    columns=\"count\")\n",
    "        data[col].plot.hist(alpha=0.5).plot(col_density)\n",
    "        plt.show()\n",
    "plot_density_bar()"
   ]
  },
  {
   "cell_type": "markdown",
   "metadata": {},
   "source": [
    "#### drop_null:\n",
    "\n",
    "drop rows with \"?\""
   ]
  },
  {
   "cell_type": "code",
   "execution_count": 11,
   "metadata": {
    "id": "ZOH3jOxXkjVD"
   },
   "outputs": [],
   "source": [
    "def drop_null(data, cols):\n",
    "    for col in cols:\n",
    "        data = data[data[col] != \"?\"]\n",
    "    return data\n",
    "\n",
    "cols = [\"race\", \"diag_1\", \"diag_2\", \"diag_3\"]\n",
    "data = drop_null(data, cols)"
   ]
  },
  {
   "cell_type": "code",
   "execution_count": 12,
   "metadata": {
    "id": "HH-rsaq9kjVD",
    "outputId": "491c903f-bbc1-44f4-89d1-58c5dd0bd1b3"
   },
   "outputs": [
    {
     "data": {
      "text/plain": [
       "array([ 1,  6,  2, 12,  9, 15, 27], dtype=int64)"
      ]
     },
     "execution_count": 12,
     "metadata": {},
     "output_type": "execute_result"
    }
   ],
   "source": [
    "def drop_row(col, values):\n",
    "    df = data[~data[col].isin(values)]\n",
    "    return df\n",
    "\n",
    "# drop discharge_disposition_id - 3,4,5,7,8,10,11,13,14,16,17,18,19,20,21,22,23,24,25,26,28\n",
    "values = [3,4,5,7,8,10,11,13,14,16,17,18,19,20,21,22,23,24,25,26,28]\n",
    "data = drop_row(\"discharge_disposition_id\",values)\n",
    "data[\"discharge_disposition_id\"].unique()"
   ]
  },
  {
   "cell_type": "code",
   "execution_count": 13,
   "metadata": {
    "id": "J8rbGiwDkjVE"
   },
   "outputs": [],
   "source": [
    "# frequency_table()"
   ]
  },
  {
   "cell_type": "markdown",
   "metadata": {},
   "source": [
    "##### prob_table:\n",
    "<br> to club/drop classes wrt probability of occurance in y"
   ]
  },
  {
   "cell_type": "code",
   "execution_count": 14,
   "metadata": {
    "id": "grp675PBkjVE"
   },
   "outputs": [
    {
     "name": "stdout",
     "output_type": "stream",
     "text": [
      "**************************************************\n",
      "feature/column: discharge_disposition_id\n",
      "             1     2     6     9    12    15   27  rowtotal\n",
      "<30       0.09  0.16  0.13  0.43  0.67  0.44  0.0      0.10\n",
      ">30       0.36  0.32  0.42  0.10  0.00  0.29  0.2      0.37\n",
      "NO        0.54  0.52  0.45  0.48  0.33  0.27  0.8      0.53\n",
      "coltotal  1.00  1.00  1.00  1.00  1.00  1.00  1.0      1.00\n",
      "**************************************************\n",
      "**************************************************\n",
      "feature/column: admission_source_id\n",
      "             1     2     3     4     5     6     7    8     9    10   11   13  \\\n",
      "<30       0.10  0.10  0.22  0.09  0.17  0.08  0.11  0.2  0.18  0.00  0.0  0.0   \n",
      ">30       0.34  0.28  0.26  0.23  0.28  0.17  0.40  0.3  0.10  0.17  0.0  0.0   \n",
      "NO        0.56  0.62  0.51  0.68  0.55  0.75  0.49  0.5  0.72  0.83  1.0  1.0   \n",
      "coltotal  1.00  1.00  1.00  1.00  1.00  1.00  1.00  1.0  1.00  1.00  1.0  1.0   \n",
      "\n",
      "           14    17    20    22   25  rowtotal  \n",
      "<30       0.0  0.10  0.14  0.09  0.0      0.10  \n",
      ">30       0.0  0.39  0.53  0.27  0.0      0.37  \n",
      "NO        1.0  0.51  0.33  0.64  1.0      0.53  \n",
      "coltotal  1.0  1.00  1.00  1.00  1.0      1.00  \n",
      "**************************************************\n",
      "**************************************************\n",
      "feature/column: num_lab_procedures\n",
      "             1    2     3     4     5     6     7     8     9    10  ...  108  \\\n",
      "<30       0.09  0.1  0.09  0.05  0.08  0.06  0.08  0.09  0.10  0.10  ...  0.5   \n",
      ">30       0.32  0.4  0.35  0.40  0.35  0.35  0.36  0.44  0.32  0.35  ...  0.0   \n",
      "NO        0.60  0.5  0.56  0.56  0.57  0.59  0.56  0.47  0.58  0.55  ...  0.5   \n",
      "coltotal  1.00  1.0  1.00  1.00  1.00  1.00  1.00  1.00  1.00  1.00  ...  1.0   \n",
      "\n",
      "           109  111   113  114  118  121  129  132  rowtotal  \n",
      "<30       0.33  0.0  0.00  0.0  0.0  0.0  0.0  1.0      0.10  \n",
      ">30       0.33  0.0  0.33  0.0  0.0  0.0  1.0  0.0      0.37  \n",
      "NO        0.33  1.0  0.67  1.0  1.0  1.0  0.0  0.0      0.53  \n",
      "coltotal  1.00  1.0  1.00  1.0  1.0  1.0  1.0  1.0      1.00  \n",
      "\n",
      "[4 rows x 117 columns]\n",
      "**************************************************\n",
      "**************************************************\n",
      "feature/column: num_procedures\n",
      "            0     1     2     3     4     5     6  rowtotal\n",
      "<30       0.1  0.11  0.10  0.09  0.10  0.08  0.10      0.10\n",
      ">30       0.4  0.36  0.35  0.33  0.35  0.35  0.33      0.37\n",
      "NO        0.5  0.53  0.55  0.57  0.55  0.57  0.57      0.53\n",
      "coltotal  1.0  1.00  1.00  1.00  1.00  1.00  1.00      1.00\n",
      "**************************************************\n",
      "**************************************************\n",
      "feature/column: max_glu_serum\n",
      "          >200  >300  None  Norm  rowtotal\n",
      "<30       0.11  0.14  0.10  0.11      0.10\n",
      ">30       0.39  0.48  0.37  0.35      0.37\n",
      "NO        0.50  0.38  0.53  0.54      0.53\n",
      "coltotal  1.00  1.00  1.00  1.00      1.00\n",
      "**************************************************\n",
      "**************************************************\n",
      "feature/column: number_outpatient\n",
      "             0     1     2     3     4     5     6     7     8     9  ...  \\\n",
      "<30       0.10  0.13  0.13  0.12  0.15  0.11  0.14  0.18  0.07  0.15  ...   \n",
      ">30       0.35  0.45  0.49  0.47  0.45  0.49  0.50  0.54  0.41  0.53  ...   \n",
      "NO        0.55  0.41  0.38  0.41  0.40  0.40  0.36  0.28  0.53  0.32  ...   \n",
      "coltotal  1.00  1.00  1.00  1.00  1.00  1.00  1.00  1.00  1.00  1.00  ...   \n",
      "\n",
      "           33   34   35   36   37   38   39   40   42  rowtotal  \n",
      "<30       0.0  0.0  0.0  0.0  0.0  0.0  0.0  1.0  0.0      0.10  \n",
      ">30       1.0  1.0  0.5  0.0  1.0  1.0  1.0  0.0  1.0      0.37  \n",
      "NO        0.0  0.0  0.5  1.0  0.0  0.0  0.0  0.0  0.0      0.53  \n",
      "coltotal  1.0  1.0  1.0  1.0  1.0  1.0  1.0  1.0  1.0      1.00  \n",
      "\n",
      "[4 rows x 39 columns]\n",
      "**************************************************\n",
      "**************************************************\n",
      "feature/column: number_inpatient\n",
      "             0     1     2     3     4     5     6     7     8     9  ...  \\\n",
      "<30       0.07  0.12  0.17  0.20  0.24  0.32  0.34  0.37  0.50  0.45  ...   \n",
      ">30       0.32  0.45  0.52  0.54  0.55  0.52  0.53  0.48  0.45  0.43  ...   \n",
      "NO        0.61  0.43  0.31  0.25  0.21  0.16  0.14  0.15  0.05  0.12  ...   \n",
      "coltotal  1.00  1.00  1.00  1.00  1.00  1.00  1.00  1.00  1.00  1.00  ...   \n",
      "\n",
      "           11    12    13    14   15   16   18   19   21  rowtotal  \n",
      "<30       0.7  0.50  0.59  0.33  1.0  0.2  0.0  0.5  1.0      0.10  \n",
      ">30       0.3  0.43  0.41  0.67  0.0  0.4  1.0  0.5  0.0      0.37  \n",
      "NO        0.0  0.07  0.00  0.00  0.0  0.4  0.0  0.0  0.0      0.53  \n",
      "coltotal  1.0  1.00  1.00  1.00  1.0  1.0  1.0  1.0  1.0      1.00  \n",
      "\n",
      "[4 rows x 21 columns]\n",
      "**************************************************\n",
      "**************************************************\n",
      "feature/column: number_emergency\n",
      "             0     1     2     3     4     5     6     7     8     9  ...  \\\n",
      "<30       0.09  0.14  0.19  0.21  0.31  0.24  0.23  0.28  0.36  0.38  ...   \n",
      ">30       0.35  0.48  0.52  0.55  0.53  0.57  0.67  0.62  0.50  0.52  ...   \n",
      "NO        0.55  0.38  0.30  0.24  0.16  0.19  0.10  0.09  0.14  0.10  ...   \n",
      "coltotal  1.00  1.00  1.00  1.00  1.00  1.00  1.00  1.00  1.00  1.00  ...   \n",
      "\n",
      "           28   29   37   42   46   54   63   64   76  rowtotal  \n",
      "<30       1.0  0.0  0.0  0.0  0.0  0.0  0.0  1.0  0.0      0.10  \n",
      ">30       0.0  1.0  0.0  1.0  1.0  1.0  1.0  0.0  1.0      0.37  \n",
      "NO        0.0  0.0  1.0  0.0  0.0  0.0  0.0  0.0  0.0      0.53  \n",
      "coltotal  1.0  1.0  1.0  1.0  1.0  1.0  1.0  1.0  1.0      1.00  \n",
      "\n",
      "[4 rows x 34 columns]\n",
      "**************************************************\n",
      "**************************************************\n",
      "feature/column: number_diagnoses\n",
      "             3     4     5     6     7     8     9    10   11   12    13   14  \\\n",
      "<30       0.07  0.08  0.08  0.09  0.10  0.10  0.12  0.15  0.3  0.0  0.21  0.2   \n",
      ">30       0.28  0.30  0.28  0.35  0.38  0.38  0.41  0.31  0.5  0.5  0.29  0.4   \n",
      "NO        0.65  0.63  0.65  0.56  0.53  0.52  0.47  0.54  0.2  0.5  0.50  0.4   \n",
      "coltotal  1.00  1.00  1.00  1.00  1.00  1.00  1.00  1.00  1.0  1.0  1.00  1.0   \n",
      "\n",
      "           15    16  rowtotal  \n",
      "<30       0.0  0.16      0.10  \n",
      ">30       0.4  0.40      0.37  \n",
      "NO        0.6  0.44      0.53  \n",
      "coltotal  1.0  1.00      1.00  \n",
      "**************************************************\n",
      "**************************************************\n",
      "feature/column: A1Cresult\n",
      "            >7    >8  None  Norm  rowtotal\n",
      "<30       0.09  0.09  0.11  0.09      0.10\n",
      ">30       0.35  0.37  0.37  0.34      0.37\n",
      "NO        0.57  0.54  0.52  0.57      0.53\n",
      "coltotal  1.00  1.00  1.00  1.00      1.00\n",
      "**************************************************\n",
      "**************************************************\n",
      "feature/column: change\n",
      "            Ch    No  rowtotal\n",
      "<30       0.11  0.10      0.10\n",
      ">30       0.39  0.36      0.37\n",
      "NO        0.51  0.54      0.53\n",
      "coltotal  1.00  1.00      1.00\n",
      "**************************************************\n"
     ]
    }
   ],
   "source": [
    "def prob_table(data, col, y):\n",
    "    print(\"*\"*50)\n",
    "    print(\"feature/column:\", col)\n",
    "    temp_data = pd.crosstab(index=data[y], \n",
    "                             columns=data[col],\n",
    "                             margins=True)   # Include row and column totals\n",
    "\n",
    "    cols = sorted(data[col].unique())\n",
    "    cols.append(\"rowtotal\")\n",
    "    temp_data.columns = cols\n",
    "    temp_data.index= [\"<30\",\">30\",\"NO\",\"coltotal\"]\n",
    "\n",
    "    print((temp_data/temp_data.loc[\"coltotal\"]).round(2))\n",
    "    print(\"*\"*50)\n",
    "    \n",
    "columns = [\"discharge_disposition_id\",\"admission_source_id\", \"num_lab_procedures\", \"num_procedures\",\n",
    " \"max_glu_serum\", \"number_outpatient\", \"number_inpatient\",\n",
    " \"number_emergency\", \"number_diagnoses\", \"A1Cresult\", \"change\"]\n",
    "for col in columns:\n",
    "    prob_table(data, col, \"readmitted\")"
   ]
  },
  {
   "cell_type": "code",
   "execution_count": 15,
   "metadata": {
    "id": "gp6RPBXukjVF"
   },
   "outputs": [],
   "source": [
    "data = data.drop(\"num_procedures\", axis=1)"
   ]
  },
  {
   "cell_type": "code",
   "execution_count": 16,
   "metadata": {
    "id": "POHsW66okjVG"
   },
   "outputs": [],
   "source": [
    "def create_features(data, info):\n",
    "    for col, col_info in info.items():\n",
    "        for name in col_info:\n",
    "            values = col_info[name]\n",
    "            data[col+name] = data[col].isin(values).astype(int)\n",
    "        data = data.drop(col, axis=1)\n",
    "    return data"
   ]
  },
  {
   "cell_type": "code",
   "execution_count": 17,
   "metadata": {
    "id": "4dYq8EfGkjVG"
   },
   "outputs": [],
   "source": [
    "# Encode these columns\n",
    "info = {\n",
    "    \"admission_source_id\": {\">30\": [\"20\"]},\n",
    "    \"num_lab_procedures\": {\"<30\": [\"132\"], \">30\": [\"104\", \"129\"]},\n",
    "    \"number_outpatient\": {\"<30\":[\"23\", \"40\"],\n",
    "                          \">30\":[\"6\", \"7\", \"10\", \"11\", \"12\", \"14\", \"15\", \"16\", \"18\", \"19\", \n",
    "                                 \"20\", \"21\", \"22\", \"23\", \"25\", \"26\", \"27\", \"28\", \"29\", \n",
    "                                 \"33\", \"34\",\"35\", \"36\", \"37\", \"38\", \"39\", \"42\"]},\n",
    "    \"number_inpatient\": {\"<30\":[\"8\", \"9\", \"11\", \"12\", \"13\", \"15\", \"19\", \"21\"],\n",
    "                         \">30\": [\"2\", \"3\", \"4\", \"5\", \"6\", \"14\",\"18\"]},\n",
    "    \"number_emergency\": {\"<30\": [\"20\", \"21\", \"28\", \"64\"],\n",
    "                         \">30\": [\"2\", \"3\", \"4\", \"5\", \"6\", \"7\", \"8\", \"9\", \"10\", \"11\", \"12\",\n",
    "                                 \"13\", \"14\", \"15\", \"18\", \"19\", \"21\", \"22\", \"24\", \"29\", \"42\",\n",
    "                                 \"46\", \"54\", \"63\", \"76\"]},\n",
    "    \"number_diagnoses\": {\">30\":[\"11\", \"12\"]},\n",
    "    \n",
    "    \"discharge_disposition_id\":{\"1\": [\"1\"]},\n",
    "    \"max_glu_serum\": {\"GS_MT200\":[\">200\"],\n",
    "                      \"GS_MT300\": [\">300\"],\n",
    "                      \"GS_NO\": [\"None\"]},\n",
    "    \"A1Cresult\": {\"A1C_MT7\": [\">7\"],\n",
    "                  \"A1C_MT8\": [\">8\"],\n",
    "                  \"A1c_norm\": [\"Norm\"]},\n",
    "    \"change\": {\"_encoded\": [\"Ch\"]}\n",
    "          }\n",
    "data = create_features(data, info)"
   ]
  },
  {
   "cell_type": "code",
   "execution_count": 18,
   "metadata": {
    "id": "F95UhSR8kjVJ"
   },
   "outputs": [],
   "source": [
    "# convert to dummies\n",
    "cat_cols = [\"age\", \"race\",\"gender\",\"admission_type_id\",\n",
    "            \"metformin\",\"repaglinide\",\"nateglinide\",\n",
    "            \"chlorpropamide\", \"glimepiride\", \"glipizide\",\n",
    "            \"glyburide\", \"pioglitazone\", \"rosiglitazone\",\n",
    "            \"acarbose\", \"miglitol\" , \"tolazamide\", \"insulin\",\n",
    "           \"diabetesMed\", \"metformin-pioglitazone\"]\n",
    "\n",
    "data = pd.get_dummies(data, columns=cat_cols)"
   ]
  },
  {
   "cell_type": "markdown",
   "metadata": {},
   "source": [
    "##### ICD10 coding of diagnosis"
   ]
  },
  {
   "cell_type": "code",
   "execution_count": 19,
   "metadata": {
    "id": "XY4PlRS8kjVO"
   },
   "outputs": [],
   "source": [
    "import numpy as np\n",
    "import string\n",
    "\n",
    "circulatory_range = list(map(lambda n: '%g'%n, np.arange(390, 459, 0.1)))\n",
    "circulatory_range.extend([\"459\",\"785\"])\n",
    "data.loc[data['diag_1'].isin(circulatory_range),\"diag_1\"] = \"Circulatory\"\n",
    "data.loc[data['diag_2'].isin(circulatory_range),\"diag_2\"] = \"Circulatory\"\n",
    "data.loc[data['diag_3'].isin(circulatory_range),\"diag_3\"] = \"Circulatory\"\n",
    "\n",
    "respiratory_range = list(map(lambda n: '%g'%n, np.arange(460,519,0.1)))\n",
    "respiratory_range.extend([\"519\", \"786\"])\n",
    "data.loc[data['diag_1'].isin(respiratory_range),\"diag_1\"] = \"Respiratory\"\n",
    "data.loc[data['diag_2'].isin(respiratory_range),\"diag_2\"] = \"Respiratory\"\n",
    "data.loc[data['diag_3'].isin(respiratory_range),\"diag_3\"] = \"Respiratory\"\n",
    "\n",
    "digestive_range = list(map(lambda n: '%g'%n, np.arange(520, 579, 0.1)))\n",
    "digestive_range.extend([\"579\", \"787\"])\n",
    "data.loc[data['diag_1'].isin(digestive_range),\"diag_1\"] = \"Digestive\"\n",
    "data.loc[data['diag_2'].isin(digestive_range),\"diag_2\"] = \"Digestive\"\n",
    "data.loc[data['diag_3'].isin(digestive_range),\"diag_3\"] = \"Digestive\"\n",
    "                       \n",
    "diabetes_range = list(map(lambda n: '%g'%n, np.arange(250,251, 0.01)))\n",
    "diabetes_range.extend([\"251\",\"787\"])\n",
    "data.loc[data['diag_1'].isin(diabetes_range),\"diag_1\"] = \"Diabetes\"\n",
    "data.loc[data['diag_2'].isin(diabetes_range),\"diag_2\"] = \"Diabetes\"\n",
    "data.loc[data['diag_3'].isin(diabetes_range),\"diag_3\"] = \"Diabetes\"\n",
    "                       \n",
    "injury_range = list(map(lambda n: '%g'%n, np.arange(800, 999, 0.1)))\n",
    "injury_range.append(\"999\")\n",
    "data.loc[data['diag_1'].isin(injury_range),\"diag_1\"] = \"Injury\"\n",
    "data.loc[data['diag_2'].isin(injury_range),\"diag_2\"] = \"Injury\"\n",
    "data.loc[data['diag_3'].isin(injury_range),\"diag_3\"] = \"Injury\"\n",
    "\n",
    "musculoskeletal_range = list(map(lambda n: '%g'%n, np.arange(710, 739, 0.1)))\n",
    "injury_range.append(\"739\")\n",
    "data.loc[data['diag_1'].isin(musculoskeletal_range),\"diag_1\"] = \"Musculoskeletal\"\n",
    "data.loc[data['diag_2'].isin(musculoskeletal_range),\"diag_2\"] = \"Musculoskeletal\"\n",
    "data.loc[data['diag_3'].isin(musculoskeletal_range),\"diag_3\"] = \"Musculoskeletal\"\n",
    "                       \n",
    "genito_urinary_range = list(map(lambda n: '%g'%n, np.arange(580, 629, 0.1)))\n",
    "genito_urinary_range.extend([\"629\", \"788\"])\n",
    "data.loc[data['diag_1'].isin(genito_urinary_range),\"diag_1\"] = \"GenitoUrinary\"\n",
    "data.loc[data['diag_2'].isin(genito_urinary_range),\"diag_2\"] = \"GenitoUrinary\"\n",
    "data.loc[data['diag_3'].isin(genito_urinary_range),\"diag_3\"] = \"GenitoUrinary\"\n",
    "\n",
    "neoplasms_range = list(map(lambda n: '%g'%n, np.arange(1, 239, 0.1)))\n",
    "neoplasms_range.extend(list(map(lambda n: '%g'%n, np.arange(790, 799, 0.1))))\n",
    "neoplasms_range.extend(list(map(lambda n: '%g'%n, np.arange(240, 249, 0.1))))\n",
    "neoplasms_range.extend(list(map(lambda n: '%g'%n, np.arange(251, 279, 0.1))))\n",
    "neoplasms_range.extend(list(map(lambda n: '%g'%n, np.arange(680, 709, 0.1))))\n",
    "neoplasms_range.extend([\"239\", \"799\", \"249\", \"279\", \"709\", \"780\", \"781\", \"784\", \"782\"])\n",
    "data.loc[data['diag_1'].isin(neoplasms_range),\"diag_1\"] = \"Neoplasms\"\n",
    "data.loc[data['diag_2'].isin(neoplasms_range),\"diag_2\"] = \"Neoplasms\"\n",
    "data.loc[data['diag_3'].isin(neoplasms_range),\"diag_3\"] = \"Neoplasms\"\n",
    "                       \n",
    "others_range = list(map(lambda n: '%g'%n, np.arange(280, 389, 0.01)))\n",
    "others_range.extend(list(map(lambda n: '%g'%n, np.arange(630, 679, 0.1))))\n",
    "others_range.extend(list(map(lambda n: '%g'%n, np.arange(740, 759, 0.1))))\n",
    "others_range.extend([\"389\", \"679\", \"759\", \"783\", \"789\", \"E909\"])\n",
    "\n",
    "data.loc[data['diag_1'].isin(others_range),\"diag_1\"] = \"Others\"\n",
    "data.loc[data['diag_2'].isin(others_range),\"diag_2\"] = \"Others\"\n",
    "data.loc[data['diag_3'].isin(others_range),\"diag_3\"] = \"Others\"\n",
    "\n",
    "data.loc[data['diag_1'].str.match('^[E-V][0-9]*$'), \"diag_1\"] = \"Others\"\n",
    "data.loc[data['diag_2'].str.match('^[E-V][0-9]*$'), \"diag_2\"] = \"Others\"\n",
    "data.loc[data['diag_3'].str.match('^[E-V][0-9]*$'), \"diag_3\"] = \"Others\""
   ]
  },
  {
   "cell_type": "code",
   "execution_count": 20,
   "metadata": {
    "id": "WmdAbJ_QkjVP",
    "outputId": "0dd2f2f6-9c11-413b-897b-efaad6c90096"
   },
   "outputs": [
    {
     "data": {
      "text/plain": [
       "array(['Neoplasms', 'Others', 'Circulatory', 'Diabetes', 'Respiratory',\n",
       "       'Injury', 'GenitoUrinary', 'Digestive', 'Musculoskeletal'],\n",
       "      dtype=object)"
      ]
     },
     "execution_count": 20,
     "metadata": {},
     "output_type": "execute_result"
    }
   ],
   "source": [
    "data[\"diag_1\"].unique()"
   ]
  },
  {
   "cell_type": "code",
   "execution_count": 21,
   "metadata": {
    "id": "HHVDS7gakjVQ",
    "outputId": "109372f1-9161-437d-a0d5-7675029d6646"
   },
   "outputs": [
    {
     "data": {
      "text/plain": [
       "array(['Diabetes', 'Neoplasms', 'Circulatory', 'Respiratory', 'Others',\n",
       "       'Injury', 'Musculoskeletal', 'GenitoUrinary', 'Digestive'],\n",
       "      dtype=object)"
      ]
     },
     "execution_count": 21,
     "metadata": {},
     "output_type": "execute_result"
    }
   ],
   "source": [
    "data[\"diag_2\"].unique()"
   ]
  },
  {
   "cell_type": "code",
   "execution_count": 22,
   "metadata": {
    "id": "U4exopgnkjVR",
    "outputId": "76df1b06-9f09-4610-8ab8-00fd87690500"
   },
   "outputs": [
    {
     "data": {
      "text/plain": [
       "array(['Neoplasms', 'Others', 'Circulatory', 'Diabetes', 'Injury',\n",
       "       'GenitoUrinary', 'Respiratory', 'Digestive', 'Musculoskeletal'],\n",
       "      dtype=object)"
      ]
     },
     "execution_count": 22,
     "metadata": {},
     "output_type": "execute_result"
    }
   ],
   "source": [
    "data[\"diag_3\"].unique()"
   ]
  },
  {
   "cell_type": "code",
   "execution_count": 23,
   "metadata": {},
   "outputs": [
    {
     "name": "stderr",
     "output_type": "stream",
     "text": [
      "C:\\ProgramData\\Anaconda3\\lib\\site-packages\\category_encoders\\utils.py:21: FutureWarning: is_categorical is deprecated and will be removed in a future version.  Use is_categorical_dtype instead\n",
      "  elif pd.api.types.is_categorical(cols):\n"
     ]
    }
   ],
   "source": [
    "from category_encoders.hashing import HashingEncoder\n",
    "\n",
    "X = pd.DataFrame(data, columns=data.columns)\n",
    "y = data.readmitted\n",
    "he = HashingEncoder(cols=['diag_1', 'diag_2', 'diag_3'], n_components = 3).fit(X, y)\n",
    "data = he.transform(X)\n",
    "\n",
    "# data.info()\n",
    "# data.head()\n"
   ]
  },
  {
   "cell_type": "code",
   "execution_count": 24,
   "metadata": {},
   "outputs": [],
   "source": [
    "# data[\"readmitted\"].value_counts()\n",
    "data[\"readmitted\"]=np.where(data[\"readmitted\"]==\"NO\", 1, 0)\n",
    "# data[\"readmitted\"].value_counts()"
   ]
  },
  {
   "cell_type": "code",
   "execution_count": 25,
   "metadata": {},
   "outputs": [],
   "source": [
    "X = data\n",
    "y = data[\"readmitted\"]\n",
    "x_train, x_test, y_train, y_test = train_test_split(X, y, test_size=0.3, random_state=42, stratify=y)\n",
    "x_val, x_test,  y_val,  y_test = train_test_split(x_test, y_test, test_size=0.3, random_state=42, stratify=y_test)"
   ]
  },
  {
   "cell_type": "code",
   "execution_count": 26,
   "metadata": {},
   "outputs": [],
   "source": [
    "# from sklearn.decomposition import PCA\n",
    "# pca = PCA(n_components=5)\n",
    "# x_train = pca.fit_transform(x_train)\n",
    "# x_test = pca.transform(x_test)\n",
    "# x_val = pca.transform(x_val)\n",
    "\n",
    "# np.save(\"../data/processed_data/x_train.npy\", x_train)\n",
    "# np.save(\"../data/processed_data/x_test.npy\", x_test)\n",
    "# np.save(\"../data/processed_data/x_val.npy\", x_val)\n",
    "# np.save(\"../data/processed_data/y_train.npy\", y_train)\n",
    "# np.save(\"../data/processed_data/y_test.npy\", y_test)\n",
    "# np.save(\"../data/processed_data/y_val.npy\", y_val)"
   ]
  },
  {
   "cell_type": "code",
   "execution_count": 27,
   "metadata": {},
   "outputs": [],
   "source": [
    "x_train.to_csv('../data/processed_data/x_train.csv',index=False)\n",
    "x_val.to_csv('../data/processed_data/x_val.csv',index=False)\n",
    "y_train.to_csv('../data/processed_data/y_train.csv',index=False)\n",
    "y_val.to_csv('../data/processed_data/y_val.csv',index=False)\n",
    "x_test.to_csv('../data/processed_data/x_test.csv',index=False)\n",
    "y_test.to_csv('../data/processed_data/y_test.csv',index=False)"
   ]
  },
  {
   "cell_type": "code",
   "execution_count": null,
   "metadata": {},
   "outputs": [],
   "source": []
  }
 ],
 "metadata": {
  "colab": {
   "include_colab_link": true,
   "name": "Data Preprocessing.ipynb",
   "provenance": []
  },
  "kernelspec": {
   "display_name": "Python 3",
   "language": "python",
   "name": "python3"
  },
  "language_info": {
   "codemirror_mode": {
    "name": "ipython",
    "version": 3
   },
   "file_extension": ".py",
   "mimetype": "text/x-python",
   "name": "python",
   "nbconvert_exporter": "python",
   "pygments_lexer": "ipython3",
   "version": "3.8.5"
  }
 },
 "nbformat": 4,
 "nbformat_minor": 1
}
